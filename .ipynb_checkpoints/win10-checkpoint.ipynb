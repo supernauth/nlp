{
 "cells": [
  {
   "cell_type": "code",
   "execution_count": 20,
   "id": "f0fdc09a-c74f-425a-82ac-b2c6373e2873",
   "metadata": {},
   "outputs": [],
   "source": [
    "import pandas as pd\n",
    "import matplotlib.pyplot as plt\n",
    "from nltk.corpus import stopwords\n",
    "import wordcloud"
   ]
  },
  {
   "cell_type": "code",
   "execution_count": 21,
   "id": "8e70d916-60a3-48d5-a964-2950a7472f61",
   "metadata": {},
   "outputs": [],
   "source": [
    "df = pd.read_csv(\"dataset/windows10comments.csv\", sep=';', index_col=[0])"
   ]
  },
  {
   "cell_type": "code",
   "execution_count": 22,
   "id": "0ab173ee-db18-40a7-87a5-aab7ecd8ac29",
   "metadata": {},
   "outputs": [
    {
     "data": {
      "text/html": [
       "<div>\n",
       "<style scoped>\n",
       "    .dataframe tbody tr th:only-of-type {\n",
       "        vertical-align: middle;\n",
       "    }\n",
       "\n",
       "    .dataframe tbody tr th {\n",
       "        vertical-align: top;\n",
       "    }\n",
       "\n",
       "    .dataframe thead th {\n",
       "        text-align: right;\n",
       "    }\n",
       "</style>\n",
       "<table border=\"1\" class=\"dataframe\">\n",
       "  <thead>\n",
       "    <tr style=\"text-align: right;\">\n",
       "      <th></th>\n",
       "      <th>text</th>\n",
       "      <th>date</th>\n",
       "    </tr>\n",
       "  </thead>\n",
       "  <tbody>\n",
       "    <tr>\n",
       "      <th>0</th>\n",
       "      <td>Mielőtt kommentelsz, olvasd el az Összefoglaló...</td>\n",
       "      <td>\\n\\t\\t\\t\\t\\t\\t\\tUtoljára frissítve: 2020-05-31...</td>\n",
       "    </tr>\n",
       "    <tr>\n",
       "      <th>1</th>\n",
       "      <td>Windows 9A Microsoft a híresztelések szerint a...</td>\n",
       "      <td>\\n2014-07-02 20:43:20\\n</td>\n",
       "    </tr>\n",
       "    <tr>\n",
       "      <th>2</th>\n",
       "      <td>Az a start menü jól néz ki, meg a metro appok ...</td>\n",
       "      <td>\\n2014-07-02 20:48:30\\n</td>\n",
       "    </tr>\n",
       "    <tr>\n",
       "      <th>3</th>\n",
       "      <td>Nekem nem tetszik annyira... hiányolom a kikap...</td>\n",
       "      <td>\\n2014-07-02 20:53:41\\n</td>\n",
       "    </tr>\n",
       "    <tr>\n",
       "      <th>4</th>\n",
       "      <td>Ott a shut down a képen</td>\n",
       "      <td>\\n2014-07-02 20:54:13\\n</td>\n",
       "    </tr>\n",
       "  </tbody>\n",
       "</table>\n",
       "</div>"
      ],
      "text/plain": [
       "                                                text  \\\n",
       "0  Mielőtt kommentelsz, olvasd el az Összefoglaló...   \n",
       "1  Windows 9A Microsoft a híresztelések szerint a...   \n",
       "2  Az a start menü jól néz ki, meg a metro appok ...   \n",
       "3  Nekem nem tetszik annyira... hiányolom a kikap...   \n",
       "4                           Ott a shut down a képen    \n",
       "\n",
       "                                                date  \n",
       "0  \\n\\t\\t\\t\\t\\t\\t\\tUtoljára frissítve: 2020-05-31...  \n",
       "1                            \\n2014-07-02 20:43:20\\n  \n",
       "2                            \\n2014-07-02 20:48:30\\n  \n",
       "3                            \\n2014-07-02 20:53:41\\n  \n",
       "4                            \\n2014-07-02 20:54:13\\n  "
      ]
     },
     "execution_count": 22,
     "metadata": {},
     "output_type": "execute_result"
    }
   ],
   "source": [
    "df.head()"
   ]
  },
  {
   "cell_type": "code",
   "execution_count": 23,
   "id": "507dc803-19a4-4f74-9e08-cf1e08574d80",
   "metadata": {},
   "outputs": [
    {
     "data": {
      "text/html": [
       "<div>\n",
       "<style scoped>\n",
       "    .dataframe tbody tr th:only-of-type {\n",
       "        vertical-align: middle;\n",
       "    }\n",
       "\n",
       "    .dataframe tbody tr th {\n",
       "        vertical-align: top;\n",
       "    }\n",
       "\n",
       "    .dataframe thead th {\n",
       "        text-align: right;\n",
       "    }\n",
       "</style>\n",
       "<table border=\"1\" class=\"dataframe\">\n",
       "  <thead>\n",
       "    <tr style=\"text-align: right;\">\n",
       "      <th></th>\n",
       "      <th>text</th>\n",
       "      <th>date</th>\n",
       "    </tr>\n",
       "  </thead>\n",
       "  <tbody>\n",
       "    <tr>\n",
       "      <th>1</th>\n",
       "      <td>Windows 9A Microsoft a híresztelések szerint a...</td>\n",
       "      <td>\\n2014-07-02 20:43:20\\n</td>\n",
       "    </tr>\n",
       "    <tr>\n",
       "      <th>2</th>\n",
       "      <td>Az a start menü jól néz ki, meg a metro appok ...</td>\n",
       "      <td>\\n2014-07-02 20:48:30\\n</td>\n",
       "    </tr>\n",
       "    <tr>\n",
       "      <th>3</th>\n",
       "      <td>Nekem nem tetszik annyira... hiányolom a kikap...</td>\n",
       "      <td>\\n2014-07-02 20:53:41\\n</td>\n",
       "    </tr>\n",
       "    <tr>\n",
       "      <th>4</th>\n",
       "      <td>Ott a shut down a képen</td>\n",
       "      <td>\\n2014-07-02 20:54:13\\n</td>\n",
       "    </tr>\n",
       "    <tr>\n",
       "      <th>5</th>\n",
       "      <td>Sokaknak megkönnyebbülés lesz az új W9, bár én...</td>\n",
       "      <td>\\n2014-07-02 20:55:30\\n</td>\n",
       "    </tr>\n",
       "    <tr>\n",
       "      <th>...</th>\n",
       "      <td>...</td>\n",
       "      <td>...</td>\n",
       "    </tr>\n",
       "    <tr>\n",
       "      <th>149018</th>\n",
       "      <td>Köszi, a jelzett frissítések rendben vannak, a...</td>\n",
       "      <td>\\n2023-01-04 11:20:47\\n</td>\n",
       "    </tr>\n",
       "    <tr>\n",
       "      <th>149019</th>\n",
       "      <td>Végülis nem tudtam megakadályozni, hogy feltel...</td>\n",
       "      <td>\\n2023-01-04 13:32:01\\n</td>\n",
       "    </tr>\n",
       "    <tr>\n",
       "      <th>149020</th>\n",
       "      <td>Adatmentő / visszaállító kérdés, de hátha itt ...</td>\n",
       "      <td>\\n2023-01-04 14:01:34\\n</td>\n",
       "    </tr>\n",
       "    <tr>\n",
       "      <th>149021</th>\n",
       "      <td>A másik topikban már kaptál válaszokat, linkel...</td>\n",
       "      <td>\\n2023-01-04 14:26:52\\n</td>\n",
       "    </tr>\n",
       "    <tr>\n",
       "      <th>149022</th>\n",
       "      <td>Köszönöm, írok majd hogy sikerül.</td>\n",
       "      <td>\\n2023-01-04 14:35:19\\n</td>\n",
       "    </tr>\n",
       "  </tbody>\n",
       "</table>\n",
       "<p>149022 rows × 2 columns</p>\n",
       "</div>"
      ],
      "text/plain": [
       "                                                     text  \\\n",
       "1       Windows 9A Microsoft a híresztelések szerint a...   \n",
       "2       Az a start menü jól néz ki, meg a metro appok ...   \n",
       "3       Nekem nem tetszik annyira... hiányolom a kikap...   \n",
       "4                                Ott a shut down a képen    \n",
       "5       Sokaknak megkönnyebbülés lesz az új W9, bár én...   \n",
       "...                                                   ...   \n",
       "149018  Köszi, a jelzett frissítések rendben vannak, a...   \n",
       "149019  Végülis nem tudtam megakadályozni, hogy feltel...   \n",
       "149020  Adatmentő / visszaállító kérdés, de hátha itt ...   \n",
       "149021  A másik topikban már kaptál válaszokat, linkel...   \n",
       "149022                  Köszönöm, írok majd hogy sikerül.   \n",
       "\n",
       "                           date  \n",
       "1       \\n2014-07-02 20:43:20\\n  \n",
       "2       \\n2014-07-02 20:48:30\\n  \n",
       "3       \\n2014-07-02 20:53:41\\n  \n",
       "4       \\n2014-07-02 20:54:13\\n  \n",
       "5       \\n2014-07-02 20:55:30\\n  \n",
       "...                         ...  \n",
       "149018  \\n2023-01-04 11:20:47\\n  \n",
       "149019  \\n2023-01-04 13:32:01\\n  \n",
       "149020  \\n2023-01-04 14:01:34\\n  \n",
       "149021  \\n2023-01-04 14:26:52\\n  \n",
       "149022  \\n2023-01-04 14:35:19\\n  \n",
       "\n",
       "[149022 rows x 2 columns]"
      ]
     },
     "execution_count": 23,
     "metadata": {},
     "output_type": "execute_result"
    }
   ],
   "source": [
    "df.drop(0)"
   ]
  },
  {
   "cell_type": "code",
   "execution_count": 24,
   "id": "1c1fe7a2-49ee-407c-a718-22345623f43a",
   "metadata": {},
   "outputs": [
    {
     "name": "stdout",
     "output_type": "stream",
     "text": [
      "Length:\n",
      "149023\n",
      "\n",
      "dtypes:\n",
      "text    object\n",
      "date    object\n",
      "dtype: object\n",
      "\n",
      "NaN rows:\n",
      "text    516\n",
      "date      0\n",
      "dtype: int64\n"
     ]
    }
   ],
   "source": [
    "print(f\"Length:\\n{len(df)}\\n\")\n",
    "print(f\"dtypes:\\n{df.dtypes}\\n\")\n",
    "print(f\"NaN rows:\\n{df.isna().sum()}\")"
   ]
  },
  {
   "cell_type": "code",
   "execution_count": null,
   "id": "90f1e9f2-e6f9-47f0-af13-ead0b092cb7f",
   "metadata": {},
   "outputs": [],
   "source": []
  }
 ],
 "metadata": {
  "kernelspec": {
   "display_name": "Python 3 (ipykernel)",
   "language": "python",
   "name": "python3"
  },
  "language_info": {
   "codemirror_mode": {
    "name": "ipython",
    "version": 3
   },
   "file_extension": ".py",
   "mimetype": "text/x-python",
   "name": "python",
   "nbconvert_exporter": "python",
   "pygments_lexer": "ipython3",
   "version": "3.12.2"
  }
 },
 "nbformat": 4,
 "nbformat_minor": 5
}
